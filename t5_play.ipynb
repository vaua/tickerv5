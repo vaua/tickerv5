{
 "cells": [
  {
   "cell_type": "code",
   "execution_count": 4,
   "metadata": {},
   "outputs": [
    {
     "data": {
      "application/vnd.jupyter.widget-view+json": {
       "model_id": "db0841080384437c801433239af48fe3",
       "version_major": 2,
       "version_minor": 0
      },
      "text/plain": [
       "Canvas(height=1000, width=1000)"
      ]
     },
     "execution_count": 4,
     "metadata": {},
     "output_type": "execute_result"
    }
   ],
   "source": [
    "import imp.world\n",
    "    \n",
    "w = imp.world.World(800, 200)\n",
    "w.create_inital_state(w.population_size)\n",
    "\n",
    "# Winning_entity = [[1119, 176, [274, 9999]], [[[[2, 0], [3, 2], [5, 0], [2, 1], [7, 2], [6, 0], [6, 3]]], [[[6, 4]]], []]]\n",
    "\n",
    "w.canvas\n"
   ]
  },
  {
   "cell_type": "code",
   "execution_count": 5,
   "metadata": {},
   "outputs": [
    {
     "name": "stdout",
     "output_type": "stream",
     "text": [
      " Tick: 9998  0: 9999,1: 6710,2: 5681,3: 5681,4: 5681,5: 4722,6: 3678,7: 3678,8: 3678,9: 3678,Tick: 2781  0: 2782,1: 2782,2: 2782,3: 2782,4: 2782,5: 2782,6: 2782,7: 2782,8: 2782,9: 2782,"
     ]
    }
   ],
   "source": [
    "for i in range(1, 10000):\n",
    "    w.tick()"
   ]
  },
  {
   "cell_type": "code",
   "execution_count": null,
   "metadata": {},
   "outputs": [],
   "source": [
    "print(w.concepts[0].positions[1032])\n",
    "e = [[1032, 53, [2, 0]], [[[[2, 0], [3, 3], [5, 1], [0, 1], [7, 2]]], [[[1, 5], [4, 3], [3, 7], [2, 1], [4, 0], [6, 4]]], []]]\n",
    "w.concepts[0].positions[1032].index(e)"
   ]
  },
  {
   "cell_type": "code",
   "execution_count": null,
   "metadata": {},
   "outputs": [],
   "source": [
    "for i in range(0, len(w.restart_ticks)):\n",
    "    print(w.restart_ticks[i+1] - w.restart_ticks[i])"
   ]
  },
  {
   "cell_type": "code",
   "execution_count": null,
   "metadata": {},
   "outputs": [],
   "source": [
    "# Perfect animal\n",
    "# If no input, go left. Important, so twice\n",
    "# If input on left, go left\n",
    "# If input on right, go right\n",
    "# If input in middle (and any other option): Eat!) \n",
    "pa = [[50, 100, 0], [[[0, 0], [[0, 0], [4, 0], [1, 3], [6, 2], [7, 2], [3, 2], [2, 2], [1, 3], [5, 0]]]]]\n",
    "w.add_entity(pa[0], pa[1])"
   ]
  },
  {
   "cell_type": "code",
   "execution_count": null,
   "metadata": {},
   "outputs": [],
   "source": [
    "#Check if peppe\n",
    "oldies = w.concepts[w.AGE].getOldestAnimals(10, w)\n",
    "for oldie in oldies:\n",
    "    if oldie[1] == [[[0, 0], [0, 0], [4, 0], [1, 3], [6, 2], [7, 2], [3, 2], [2, 2], [1, 3], [5, 0]]]:\n",
    "        print(\"Pepe!\")\n",
    "    else:\n",
    "        print(oldie[1])"
   ]
  },
  {
   "cell_type": "code",
   "execution_count": null,
   "metadata": {},
   "outputs": [],
   "source": [
    "pa = [[50, 100, 0], [[[0, 0], [0, 0], [4, 0], [1, 3], [6, 2], [7, 2], [3, 2], [2, 2], [1, 3], [5, 0]]]]\n",
    "w.add_entity(pa[0], pa[1])"
   ]
  },
  {
   "cell_type": "code",
   "execution_count": 11,
   "metadata": {},
   "outputs": [
    {
     "name": "stdout",
     "output_type": "stream",
     "text": [
      "0 :  9999\n",
      "[[1119, 176, [274, 9999]], [[[[2, 0], [3, 2], [5, 0], [2, 1], [7, 2], [6, 0], [6, 3]]], [[[6, 4]]], []]]\n",
      "1 :  6710\n",
      "[[429, 436, [3067, 6710]], [[[[2, 3], [7, 2], [0, 3], [4, 1], [4, 2], [0, 3], [3, 3]]], [[[1, 1], [2, 5], [6, 2], [1, 1], [4, 6], [6, 7], [2, 5]]], []]]\n"
     ]
    }
   ],
   "source": [
    "oldestAnimals = []\n",
    "for entity in w.population:\n",
    "    for pos in range(2):\n",
    "        if pos >= len(oldestAnimals):\n",
    "            oldestAnimals.append(entity)\n",
    "            break\n",
    "        elif w.world.get_entity_age(oldestAnimals[pos]) < w.world.get_entity_age(entity):\n",
    "            oldestAnimals.insert(pos, entity)\n",
    "            break\n",
    "\n",
    "for index, entity in enumerate(oldestAnimals):\n",
    "    print(index, \": \", w.world.get_entity_age(entity))\n",
    "    print(entity)\n",
    "\n"
   ]
  },
  {
   "cell_type": "code",
   "execution_count": 6,
   "metadata": {},
   "outputs": [
    {
     "ename": "AttributeError",
     "evalue": "'World' object has no attribute 'oldies'",
     "output_type": "error",
     "traceback": [
      "\u001b[0;31m---------------------------------------------------------------------------\u001b[0m",
      "\u001b[0;31mAttributeError\u001b[0m                            Traceback (most recent call last)",
      "\u001b[1;32m/Users/vanja/src/t5/t5_play.ipynb Cell 9\u001b[0m in \u001b[0;36m<cell line: 1>\u001b[0;34m()\u001b[0m\n\u001b[0;32m----> <a href='vscode-notebook-cell:/Users/vanja/src/t5/t5_play.ipynb#X10sZmlsZQ%3D%3D?line=0'>1</a>\u001b[0m w\u001b[39m.\u001b[39;49moldies\n",
      "\u001b[0;31mAttributeError\u001b[0m: 'World' object has no attribute 'oldies'"
     ]
    }
   ],
   "source": [
    "w.oldies"
   ]
  },
  {
   "cell_type": "code",
   "execution_count": null,
   "metadata": {},
   "outputs": [],
   "source": [
    "c = []\n",
    "c.append(a[0])\n",
    "c.append(a[1])"
   ]
  },
  {
   "cell_type": "code",
   "execution_count": null,
   "metadata": {},
   "outputs": [],
   "source": [
    "w.eaten_animals"
   ]
  },
  {
   "cell_type": "code",
   "execution_count": null,
   "metadata": {},
   "outputs": [],
   "source": [
    "import random\n",
    "\n",
    "amount = 10000\n",
    "f = 0\n",
    "for i in range(amount): \n",
    "    if (random.randint(0, 99) < 99):\n",
    "        f += 1\n",
    "\n",
    "print(\"Odds were \", str(f / amount))"
   ]
  }
 ],
 "metadata": {
  "interpreter": {
   "hash": "aee8b7b246df8f9039afb4144a1f6fd8d2ca17a180786b69acc140d282b71a49"
  },
  "kernelspec": {
   "display_name": "Python 3.9.7 64-bit",
   "language": "python",
   "name": "python3"
  },
  "language_info": {
   "codemirror_mode": {
    "name": "ipython",
    "version": 3
   },
   "file_extension": ".py",
   "mimetype": "text/x-python",
   "name": "python",
   "nbconvert_exporter": "python",
   "pygments_lexer": "ipython3",
   "version": "3.9.7"
  },
  "orig_nbformat": 4
 },
 "nbformat": 4,
 "nbformat_minor": 2
}
